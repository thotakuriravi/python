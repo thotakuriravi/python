{
 "cells": [
  {
   "cell_type": "markdown",
   "metadata": {},
   "source": [
    "##### Logging is a means of tracking events that happen when some software runs. The software’s developer adds logging calls to their code to indicate that certain events have occurred. An event is described by a descriptive message which can optionally contain variable data (i.e. data that is potentially different for each occurrence of the event). Events also have an importance which the developer ascribes to the event; the importance can also be called the level or severity."
   ]
  },
  {
   "cell_type": "markdown",
   "metadata": {},
   "source": [
    "When to use logging\n",
    "Logging provides a set of convenience functions for simple logging usage. These are debug(), info(), warning(), error() and critical()."
   ]
  },
  {
   "cell_type": "markdown",
   "metadata": {},
   "source": [
    "Task you want to perform\n",
    "\n",
    "The best tool for the task\n",
    "\n",
    "Display console output for ordinary usage of a command line script or program\n",
    "\n",
    "print()\n",
    "\n",
    "Report events that occur during normal operation of a program (e.g. for status monitoring or fault investigation)\n",
    "\n",
    "logging.info() (or logging.debug() for very detailed output for diagnostic purposes)\n",
    "\n",
    "Issue a warning regarding a particular runtime event\n",
    "\n",
    "warnings.warn() in library code if the issue is avoidable and the client application should be modified to eliminate the warning\n",
    "\n",
    "logging.warning() if there is nothing the client application can do about the situation, but the event should still be noted\n",
    "\n",
    "Report an error regarding a particular runtime event\n",
    "\n",
    "Raise an exception\n",
    "\n",
    "Report suppression of an error without raising an exception (e.g. error handler in a long-running server process)\n",
    "\n",
    "logging.error(), logging.exception() or logging.critical() as appropriate for the specific error and application domain"
   ]
  },
  {
   "cell_type": "code",
   "execution_count": 2,
   "metadata": {},
   "outputs": [
    {
     "name": "stderr",
     "output_type": "stream",
     "text": [
      "WARNING:root:START\n"
     ]
    }
   ],
   "source": [
    "logging.warning(\"START\")"
   ]
  },
  {
   "cell_type": "code",
   "execution_count": 4,
   "metadata": {},
   "outputs": [],
   "source": [
    "logging.info(\"STATE OF A FILE\") # It is not display any log because it is default"
   ]
  },
  {
   "cell_type": "code",
   "execution_count": 2,
   "metadata": {},
   "outputs": [],
   "source": [
    "import logging\n",
    "logging.basicConfig(filename='logging1.log', encoding='utf-8', level=logging.DEBUG)\n",
    "logging.debug('This message should go to the log file')\n",
    "logging.info('So should this')\n",
    "logging.warning('And this, too')\n",
    "logging.error('And non-ASCII stuff, too, like Øresund and Malmö')"
   ]
  },
  {
   "cell_type": "code",
   "execution_count": 3,
   "metadata": {},
   "outputs": [
    {
     "name": "stdout",
     "output_type": "stream",
     "text": [
      "Help on function basicConfig in module logging:\n",
      "\n",
      "basicConfig(**kwargs)\n",
      "    Do basic configuration for the logging system.\n",
      "    \n",
      "    This function does nothing if the root logger already has handlers\n",
      "    configured, unless the keyword argument *force* is set to ``True``.\n",
      "    It is a convenience method intended for use by simple scripts\n",
      "    to do one-shot configuration of the logging package.\n",
      "    \n",
      "    The default behaviour is to create a StreamHandler which writes to\n",
      "    sys.stderr, set a formatter using the BASIC_FORMAT format string, and\n",
      "    add the handler to the root logger.\n",
      "    \n",
      "    A number of optional keyword arguments may be specified, which can alter\n",
      "    the default behaviour.\n",
      "    \n",
      "    filename  Specifies that a FileHandler be created, using the specified\n",
      "              filename, rather than a StreamHandler.\n",
      "    filemode  Specifies the mode to open the file, if filename is specified\n",
      "              (if filemode is unspecified, it defaults to 'a').\n",
      "    format    Use the specified format string for the handler.\n",
      "    datefmt   Use the specified date/time format.\n",
      "    style     If a format string is specified, use this to specify the\n",
      "              type of format string (possible values '%', '{', '$', for\n",
      "              %-formatting, :meth:`str.format` and :class:`string.Template`\n",
      "              - defaults to '%').\n",
      "    level     Set the root logger level to the specified level.\n",
      "    stream    Use the specified stream to initialize the StreamHandler. Note\n",
      "              that this argument is incompatible with 'filename' - if both\n",
      "              are present, 'stream' is ignored.\n",
      "    handlers  If specified, this should be an iterable of already created\n",
      "              handlers, which will be added to the root handler. Any handler\n",
      "              in the list which does not have a formatter assigned will be\n",
      "              assigned the formatter created in this function.\n",
      "    force     If this keyword  is specified as true, any existing handlers\n",
      "              attached to the root logger are removed and closed, before\n",
      "              carrying out the configuration as specified by the other\n",
      "              arguments.\n",
      "    encoding  If specified together with a filename, this encoding is passed to\n",
      "              the created FileHandler, causing it to be used when the file is\n",
      "              opened.\n",
      "    errors    If specified together with a filename, this value is passed to the\n",
      "              created FileHandler, causing it to be used when the file is\n",
      "              opened in text mode. If not specified, the default value is\n",
      "              `backslashreplace`.\n",
      "    \n",
      "    Note that you could specify a stream created using open(filename, mode)\n",
      "    rather than passing the filename and mode in. However, it should be\n",
      "    remembered that StreamHandler does not close its stream (since it may be\n",
      "    using sys.stdout or sys.stderr), whereas FileHandler closes its stream\n",
      "    when the handler is closed.\n",
      "    \n",
      "    .. versionchanged:: 3.2\n",
      "       Added the ``style`` parameter.\n",
      "    \n",
      "    .. versionchanged:: 3.3\n",
      "       Added the ``handlers`` parameter. A ``ValueError`` is now thrown for\n",
      "       incompatible arguments (e.g. ``handlers`` specified together with\n",
      "       ``filename``/``filemode``, or ``filename``/``filemode`` specified\n",
      "       together with ``stream``, or ``handlers`` specified together with\n",
      "       ``stream``.\n",
      "    \n",
      "    .. versionchanged:: 3.8\n",
      "       Added the ``force`` parameter.\n",
      "    \n",
      "    .. versionchanged:: 3.9\n",
      "       Added the ``encoding`` and ``errors`` parameters.\n",
      "\n"
     ]
    }
   ],
   "source": [
    "help(logging.basicConfig)"
   ]
  },
  {
   "cell_type": "code",
   "execution_count": 6,
   "metadata": {},
   "outputs": [],
   "source": [
    "logging.debug('This message should go to the log file')\n",
    "logging.info('So should this')\n",
    "logging.warning('And this, too')\n",
    "logging.error('And non-ASCII stuff, too, like Øresund and Malmö')\n"
   ]
  },
  {
   "cell_type": "markdown",
   "metadata": {},
   "source": [
    "If you run the above script several times, the messages from successive runs are appended to the file example.log. If you want each run to start afresh, not remembering the messages from earlier runs, you can specify the filemode argument, by changing the call in the above example to:\n",
    "\n",
    "logging.basicConfig(filename='example.log', filemode='w', level=logging.DEBUG)"
   ]
  },
  {
   "cell_type": "markdown",
   "metadata": {},
   "source": [
    "Changing the format of displayed messages\n",
    "\n",
    "To change the format which is used to display messages, you need to specify the format you want to use:\n"
   ]
  },
  {
   "cell_type": "code",
   "execution_count": 1,
   "metadata": {},
   "outputs": [
    {
     "name": "stderr",
     "output_type": "stream",
     "text": [
      "DEBUG:This message should appear on the console\n",
      "INFO:So should this\n",
      "WARNING:And this, too\n"
     ]
    }
   ],
   "source": [
    "import logging\n",
    "logging.basicConfig(format='%(levelname)s:%(message)s', level=logging.DEBUG)\n",
    "logging.debug('This message should appear on the console')\n",
    "logging.info('So should this')\n",
    "logging.warning('And this, too')\n"
   ]
  },
  {
   "cell_type": "markdown",
   "metadata": {},
   "source": [
    "Displaying the date/time in messages\n",
    "To display the date and time of an event, you would place ‘%(asctime)s’ in your format string:\n"
   ]
  },
  {
   "cell_type": "code",
   "execution_count": 1,
   "metadata": {},
   "outputs": [],
   "source": [
    "import logging\n",
    "logging.basicConfig(filename='logging1.log',\n",
    "                    format='%(asctime)s: %(levelname)s : %(message)s')\n",
    "logging.warning('is when this event was logged.')\n"
   ]
  },
  {
   "cell_type": "markdown",
   "metadata": {},
   "source": [
    "The default format for date/time display (shown above) is like ISO8601 or RFC 3339. If you need more control over the formatting of the date/time, provide a datefmt argument to basicConfig, as in this example:"
   ]
  },
  {
   "cell_type": "code",
   "execution_count": 1,
   "metadata": {},
   "outputs": [],
   "source": [
    "import logging\n",
    "logging.basicConfig(filename='logging1.log', format='%(asctime)s %(message)s',\n",
    "                    datefmt='%m/%d/%Y %I:%M:%S %p')\n",
    "logging.warning('is when this event was logged.')\n"
   ]
  },
  {
   "cell_type": "markdown",
   "metadata": {},
   "source": [
    "Advanced Logging Tutorial\n",
    "The logging library takes a modular approach and offers several categories of components: loggers, handlers, filters, and formatters.\n",
    "\n",
    ". Loggers expose the interface that application code directly uses.\n",
    "\n",
    ". Handlers send the log records (created by loggers) to the appropriate destination.\n",
    "\n",
    ". Filters provide a finer grained facility for determining which log records to output.\n",
    "\n",
    ". Formatters specify the layout of log records in the final output.\n",
    "\n",
    "Log event information is passed between loggers, handlers, filters and formatters in a LogRecord instance.\n",
    "\n",
    "Logging is performed by calling methods on instances of the Logger class (hereafter called loggers). Each instance has a name, and they are conceptually arranged in a namespace hierarchy using dots (periods) as separators. For example, a logger named ‘scan’ is the parent of loggers ‘scan.text’, ‘scan.html’ and ‘scan.pdf’. Logger names can be anything you want, and indicate the area of an application in which a logged message originates.\n",
    "\n",
    "A good convention to use when naming loggers is to use a module-level logger, in each module which uses logging, named as follows:"
   ]
  },
  {
   "cell_type": "code",
   "execution_count": 2,
   "metadata": {},
   "outputs": [],
   "source": [
    "logger = logging.getLogger(__name__)"
   ]
  },
  {
   "cell_type": "markdown",
   "metadata": {},
   "source": [
    "This means that logger names track the package/module hierarchy, and it’s intuitively obvious where events are logged just from the logger name.\n",
    "\n",
    "The root of the hierarchy of loggers is called the root logger. That’s the logger used by the functions debug(), info(), warning(), error() and critical(), which just call the same-named method of the root logger. The functions and the methods have the same signatures. The root logger’s name is printed as ‘root’ in the logged output.\n",
    "\n",
    "The default format set by basicConfig() for messages is:\n",
    "\n",
    " >severity:logger name:message\n",
    "\n",
    "You can change this by passing a format string to basicConfig() with the format keyword argument. For all options regarding how a format string is constructed, see Formatter Objects.\n",
    "\n",
    "\n",
    "The most widely used methods on logger objects fall into two categories: configuration and message sending.\n",
    "\n",
    "These are the most common configuration methods:\n",
    "\n",
    ". Logger.setLevel() specifies the lowest-severity log message a logger will handle, where debug is the lowest built-in severity level and critical is the highest built-in severity. For example, if the severity level is INFO, the logger will handle only INFO, WARNING, ERROR, and CRITICAL messages and will ignore DEBUG messages.\n",
    "\n",
    ". Logger.addHandler() and Logger.removeHandler() add and remove handler objects from the logger object. Handlers are covered in more detail in Handlers.\n",
    "\n",
    ". Logger.addFilter() and Logger.removeFilter() add and remove filter objects from the logger object. Filters are covered in more detail in Filter Objects."
   ]
  },
  {
   "cell_type": "markdown",
   "metadata": {},
   "source": [
    "Configuring Logging\n",
    "Programmers can configure logging in three ways:\n",
    "\n",
    "Creating loggers, handlers, and formatters explicitly using Python code that calls the configuration methods listed above.\n",
    "\n",
    "Creating a logging config file and reading it using the fileConfig() function.\n",
    "\n",
    "Creating a dictionary of configuration information and passing it to the dictConfig() function."
   ]
  },
  {
   "cell_type": "code",
   "execution_count": 4,
   "metadata": {},
   "outputs": [
    {
     "name": "stderr",
     "output_type": "stream",
     "text": [
      "2022-11-09 20:15:52,459 - Simple_example - DEBUG - debug message\n",
      "2022-11-09 20:15:52,459 - Simple_example - DEBUG - debug message\n",
      "2022-11-09 20:15:52,459 - Simple_example - DEBUG - debug message\n",
      "2022-11-09 20:15:52,459 - Simple_example - DEBUG - debug message\n",
      "2022-11-09 20:15:52,461 - Simple_example - INFO - info message\n",
      "2022-11-09 20:15:52,461 - Simple_example - INFO - info message\n",
      "2022-11-09 20:15:52,461 - Simple_example - INFO - info message\n",
      "2022-11-09 20:15:52,461 - Simple_example - INFO - info message\n",
      "2022-11-09 20:15:52,465 - Simple_example - WARNING - warn message\n",
      "2022-11-09 20:15:52,465 - Simple_example - WARNING - warn message\n",
      "2022-11-09 20:15:52,465 - Simple_example - WARNING - warn message\n",
      "2022-11-09 20:15:52,465 - Simple_example - WARNING - warn message\n",
      "2022-11-09 20:15:52,467 - Simple_example - ERROR - error message\n",
      "2022-11-09 20:15:52,467 - Simple_example - ERROR - error message\n",
      "2022-11-09 20:15:52,467 - Simple_example - ERROR - error message\n",
      "2022-11-09 20:15:52,467 - Simple_example - ERROR - error message\n",
      "2022-11-09 20:15:52,469 - Simple_example - CRITICAL - critical message\n",
      "2022-11-09 20:15:52,469 - Simple_example - CRITICAL - critical message\n",
      "2022-11-09 20:15:52,469 - Simple_example - CRITICAL - critical message\n",
      "2022-11-09 20:15:52,469 - Simple_example - CRITICAL - critical message\n"
     ]
    }
   ],
   "source": [
    "# we can also create this code in different file\n",
    "\n",
    "import logging\n",
    "\n",
    "# create logger\n",
    "logger = logging.getLogger('Simple_example')\n",
    "logger.setLevel(logging.DEBUG)\n",
    "\n",
    "# create console handler and set level to debug\n",
    "ch = logging.StreamHandler()\n",
    "ch.setLevel(logging.DEBUG)\n",
    "\n",
    "# create formatter\n",
    "formatter = logging.Formatter(\n",
    "    '%(asctime)s - %(name)s - %(levelname)s - %(message)s')\n",
    "\n",
    "# Add formatter to ch\n",
    "ch.setFormatter(formatter)\n",
    "\n",
    "# add ch to logger\n",
    "logger.addHandler(ch)\n",
    "\n",
    "# 'application' code\n",
    "logger.debug('debug message')\n",
    "logger.info('info message')\n",
    "logger.warning('warn message')\n",
    "logger.error('error message')\n",
    "logger.critical('critical message')\n"
   ]
  },
  {
   "cell_type": "markdown",
   "metadata": {},
   "source": [
    "Logging Levels\n",
    "The numeric values of logging levels are given in the following table. These are primarily of interest if you want to define your own levels, and need them to have specific values relative to the predefined levels. If you define a level with the same numeric value, it overwrites the predefined value; the predefined name is lost.\n",
    "\n",
    "\n",
    "!['Levels'](./levels.png)\n"
   ]
  },
  {
   "cell_type": "code",
   "execution_count": 1,
   "metadata": {},
   "outputs": [
    {
     "name": "stderr",
     "output_type": "stream",
     "text": [
      "  3624 Thread-3 (worker) Hi from myfunc\n",
      "  3627 MainThread Hello from main\n",
      "  4128 Thread-3 (worker) Hi from myfunc\n",
      "  4380 MainThread Hello from main\n",
      "  4629 Thread-3 (worker) Hi from myfunc\n",
      "  5131 MainThread Hello from main\n",
      "  5131 Thread-3 (worker) Hi from myfunc\n",
      "  5634 Thread-3 (worker) Hi from myfunc\n",
      "  5883 MainThread Hello from main\n",
      "  6135 Thread-3 (worker) Hi from myfunc\n",
      "  6634 MainThread Hello from main\n",
      "  6636 Thread-3 (worker) Hi from myfunc\n",
      "  7137 Thread-3 (worker) Hi from myfunc\n",
      "  7385 MainThread Hello from main\n",
      "  7639 Thread-3 (worker) Hi from myfunc\n",
      "  8137 MainThread Hello from main\n",
      "  8141 Thread-3 (worker) Hi from myfunc\n",
      "  8643 Thread-3 (worker) Hi from myfunc\n",
      "  8889 MainThread Hello from main\n",
      "  9144 Thread-3 (worker) Hi from myfunc\n",
      "  9640 MainThread Hello from main\n",
      "  9646 Thread-3 (worker) Hi from myfunc\n",
      " 10147 Thread-3 (worker) Hi from myfunc\n",
      " 10391 MainThread Hello from main\n",
      " 10649 Thread-3 (worker) Hi from myfunc\n",
      " 11142 MainThread Hello from main\n",
      " 11150 Thread-3 (worker) Hi from myfunc\n",
      " 11652 Thread-3 (worker) Hi from myfunc\n",
      " 11894 MainThread Hello from main\n",
      " 12154 Thread-3 (worker) Hi from myfunc\n",
      " 12645 MainThread Hello from main\n",
      " 12656 Thread-3 (worker) Hi from myfunc\n",
      " 13158 Thread-3 (worker) Hi from myfunc\n",
      " 13397 MainThread Hello from main\n",
      " 13659 Thread-3 (worker) Hi from myfunc\n",
      " 14150 MainThread Hello from main\n",
      " 14160 Thread-3 (worker) Hi from myfunc\n",
      " 14662 Thread-3 (worker) Hi from myfunc\n",
      " 14901 MainThread Hello from main\n",
      " 15162 Thread-3 (worker) Hi from myfunc\n",
      " 15653 MainThread Hello from main\n",
      " 15664 Thread-3 (worker) Hi from myfunc\n",
      " 16166 Thread-3 (worker) Hi from myfunc\n",
      " 16405 MainThread Hello from main\n",
      " 16668 Thread-3 (worker) Hi from myfunc\n",
      " 17157 MainThread Hello from main\n",
      " 17170 Thread-3 (worker) Hi from myfunc\n",
      " 17671 Thread-3 (worker) Hi from myfunc\n",
      " 17908 MainThread Hello from main\n",
      " 18173 Thread-3 (worker) Hi from myfunc\n",
      " 18660 MainThread Hello from main\n",
      " 18674 Thread-3 (worker) Hi from myfunc\n",
      " 19177 Thread-3 (worker) Hi from myfunc\n"
     ]
    }
   ],
   "source": [
    "import logging\n",
    "import threading\n",
    "import time\n",
    "\n",
    "\n",
    "def worker(arg):\n",
    "    while not arg['stop']:\n",
    "        logging.debug('Hi from myfunc')\n",
    "        time.sleep(0.5)\n",
    "\n",
    "\n",
    "def main():\n",
    "    logging.basicConfig(\n",
    "        level=logging.DEBUG, format='%(relativeCreated)6d %(threadName)s %(message)s')\n",
    "    info = {'stop': False}\n",
    "    thread = threading.Thread(target=worker, args=(info,))\n",
    "    thread.start()\n",
    "    while True:\n",
    "        try:\n",
    "            logging.debug('Hello from main')\n",
    "            time.sleep(0.75)\n",
    "        except KeyboardInterrupt:\n",
    "            info['stop'] = True\n",
    "            break\n",
    "    thread.join()\n",
    "\n",
    "\n",
    "if __name__ == '__main__':\n",
    "    main()\n"
   ]
  },
  {
   "cell_type": "code",
   "execution_count": null,
   "metadata": {},
   "outputs": [],
   "source": []
  }
 ],
 "metadata": {
  "kernelspec": {
   "display_name": "Python 3.11.0 ('venv': venv)",
   "language": "python",
   "name": "python3"
  },
  "language_info": {
   "codemirror_mode": {
    "name": "ipython",
    "version": 3
   },
   "file_extension": ".py",
   "mimetype": "text/x-python",
   "name": "python",
   "nbconvert_exporter": "python",
   "pygments_lexer": "ipython3",
   "version": "3.11.0"
  },
  "orig_nbformat": 4,
  "vscode": {
   "interpreter": {
    "hash": "7b1ffffb1326328a12889ad419c7f98367a276be2e3a2b4261952c122d42e18e"
   }
  }
 },
 "nbformat": 4,
 "nbformat_minor": 2
}
